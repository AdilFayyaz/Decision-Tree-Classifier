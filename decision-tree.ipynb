{
  "nbformat": 4,
  "nbformat_minor": 0,
  "metadata": {
    "colab": {
      "name": "i180613.ipynb",
      "provenance": [],
      "collapsed_sections": []
    },
    "kernelspec": {
      "name": "python3",
      "display_name": "Python 3"
    },
    "language_info": {
      "name": "python"
    }
  },
  "cells": [
    {
      "cell_type": "code",
      "metadata": {
        "id": "rG3h4pZJXW4F"
      },
      "source": [
        "# Import the libraries\n",
        "import numpy as np\n",
        "import pandas as pd\n",
        "import math\n",
        "import copy"
      ],
      "execution_count": 1,
      "outputs": []
    },
    {
      "cell_type": "markdown",
      "metadata": {
        "id": "tVbtsEsKjLGZ"
      },
      "source": [
        "### Load the Given Dataset"
      ]
    },
    {
      "cell_type": "code",
      "metadata": {
        "colab": {
          "base_uri": "https://localhost:8080/",
          "height": 417
        },
        "id": "tEssYqVYhp3T",
        "outputId": "70c8ef89-2629-4939-93b8-dffbe55fd247"
      },
      "source": [
        "# loading the iris data\n",
        "winedata = pd.read_csv(\"wine.data\", header=None)\n",
        "winedata"
      ],
      "execution_count": 2,
      "outputs": [
        {
          "output_type": "execute_result",
          "data": {
            "text/html": [
              "<div>\n",
              "<style scoped>\n",
              "    .dataframe tbody tr th:only-of-type {\n",
              "        vertical-align: middle;\n",
              "    }\n",
              "\n",
              "    .dataframe tbody tr th {\n",
              "        vertical-align: top;\n",
              "    }\n",
              "\n",
              "    .dataframe thead th {\n",
              "        text-align: right;\n",
              "    }\n",
              "</style>\n",
              "<table border=\"1\" class=\"dataframe\">\n",
              "  <thead>\n",
              "    <tr style=\"text-align: right;\">\n",
              "      <th></th>\n",
              "      <th>0</th>\n",
              "      <th>1</th>\n",
              "      <th>2</th>\n",
              "      <th>3</th>\n",
              "      <th>4</th>\n",
              "      <th>5</th>\n",
              "      <th>6</th>\n",
              "      <th>7</th>\n",
              "      <th>8</th>\n",
              "      <th>9</th>\n",
              "      <th>10</th>\n",
              "      <th>11</th>\n",
              "      <th>12</th>\n",
              "      <th>13</th>\n",
              "    </tr>\n",
              "  </thead>\n",
              "  <tbody>\n",
              "    <tr>\n",
              "      <th>0</th>\n",
              "      <td>1</td>\n",
              "      <td>14.23</td>\n",
              "      <td>1.71</td>\n",
              "      <td>2.43</td>\n",
              "      <td>15.6</td>\n",
              "      <td>127</td>\n",
              "      <td>2.80</td>\n",
              "      <td>3.06</td>\n",
              "      <td>0.28</td>\n",
              "      <td>2.29</td>\n",
              "      <td>5.64</td>\n",
              "      <td>1.04</td>\n",
              "      <td>3.92</td>\n",
              "      <td>1065</td>\n",
              "    </tr>\n",
              "    <tr>\n",
              "      <th>1</th>\n",
              "      <td>1</td>\n",
              "      <td>13.20</td>\n",
              "      <td>1.78</td>\n",
              "      <td>2.14</td>\n",
              "      <td>11.2</td>\n",
              "      <td>100</td>\n",
              "      <td>2.65</td>\n",
              "      <td>2.76</td>\n",
              "      <td>0.26</td>\n",
              "      <td>1.28</td>\n",
              "      <td>4.38</td>\n",
              "      <td>1.05</td>\n",
              "      <td>3.40</td>\n",
              "      <td>1050</td>\n",
              "    </tr>\n",
              "    <tr>\n",
              "      <th>2</th>\n",
              "      <td>1</td>\n",
              "      <td>13.16</td>\n",
              "      <td>2.36</td>\n",
              "      <td>2.67</td>\n",
              "      <td>18.6</td>\n",
              "      <td>101</td>\n",
              "      <td>2.80</td>\n",
              "      <td>3.24</td>\n",
              "      <td>0.30</td>\n",
              "      <td>2.81</td>\n",
              "      <td>5.68</td>\n",
              "      <td>1.03</td>\n",
              "      <td>3.17</td>\n",
              "      <td>1185</td>\n",
              "    </tr>\n",
              "    <tr>\n",
              "      <th>3</th>\n",
              "      <td>1</td>\n",
              "      <td>14.37</td>\n",
              "      <td>1.95</td>\n",
              "      <td>2.50</td>\n",
              "      <td>16.8</td>\n",
              "      <td>113</td>\n",
              "      <td>3.85</td>\n",
              "      <td>3.49</td>\n",
              "      <td>0.24</td>\n",
              "      <td>2.18</td>\n",
              "      <td>7.80</td>\n",
              "      <td>0.86</td>\n",
              "      <td>3.45</td>\n",
              "      <td>1480</td>\n",
              "    </tr>\n",
              "    <tr>\n",
              "      <th>4</th>\n",
              "      <td>1</td>\n",
              "      <td>13.24</td>\n",
              "      <td>2.59</td>\n",
              "      <td>2.87</td>\n",
              "      <td>21.0</td>\n",
              "      <td>118</td>\n",
              "      <td>2.80</td>\n",
              "      <td>2.69</td>\n",
              "      <td>0.39</td>\n",
              "      <td>1.82</td>\n",
              "      <td>4.32</td>\n",
              "      <td>1.04</td>\n",
              "      <td>2.93</td>\n",
              "      <td>735</td>\n",
              "    </tr>\n",
              "    <tr>\n",
              "      <th>...</th>\n",
              "      <td>...</td>\n",
              "      <td>...</td>\n",
              "      <td>...</td>\n",
              "      <td>...</td>\n",
              "      <td>...</td>\n",
              "      <td>...</td>\n",
              "      <td>...</td>\n",
              "      <td>...</td>\n",
              "      <td>...</td>\n",
              "      <td>...</td>\n",
              "      <td>...</td>\n",
              "      <td>...</td>\n",
              "      <td>...</td>\n",
              "      <td>...</td>\n",
              "    </tr>\n",
              "    <tr>\n",
              "      <th>173</th>\n",
              "      <td>3</td>\n",
              "      <td>13.71</td>\n",
              "      <td>5.65</td>\n",
              "      <td>2.45</td>\n",
              "      <td>20.5</td>\n",
              "      <td>95</td>\n",
              "      <td>1.68</td>\n",
              "      <td>0.61</td>\n",
              "      <td>0.52</td>\n",
              "      <td>1.06</td>\n",
              "      <td>7.70</td>\n",
              "      <td>0.64</td>\n",
              "      <td>1.74</td>\n",
              "      <td>740</td>\n",
              "    </tr>\n",
              "    <tr>\n",
              "      <th>174</th>\n",
              "      <td>3</td>\n",
              "      <td>13.40</td>\n",
              "      <td>3.91</td>\n",
              "      <td>2.48</td>\n",
              "      <td>23.0</td>\n",
              "      <td>102</td>\n",
              "      <td>1.80</td>\n",
              "      <td>0.75</td>\n",
              "      <td>0.43</td>\n",
              "      <td>1.41</td>\n",
              "      <td>7.30</td>\n",
              "      <td>0.70</td>\n",
              "      <td>1.56</td>\n",
              "      <td>750</td>\n",
              "    </tr>\n",
              "    <tr>\n",
              "      <th>175</th>\n",
              "      <td>3</td>\n",
              "      <td>13.27</td>\n",
              "      <td>4.28</td>\n",
              "      <td>2.26</td>\n",
              "      <td>20.0</td>\n",
              "      <td>120</td>\n",
              "      <td>1.59</td>\n",
              "      <td>0.69</td>\n",
              "      <td>0.43</td>\n",
              "      <td>1.35</td>\n",
              "      <td>10.20</td>\n",
              "      <td>0.59</td>\n",
              "      <td>1.56</td>\n",
              "      <td>835</td>\n",
              "    </tr>\n",
              "    <tr>\n",
              "      <th>176</th>\n",
              "      <td>3</td>\n",
              "      <td>13.17</td>\n",
              "      <td>2.59</td>\n",
              "      <td>2.37</td>\n",
              "      <td>20.0</td>\n",
              "      <td>120</td>\n",
              "      <td>1.65</td>\n",
              "      <td>0.68</td>\n",
              "      <td>0.53</td>\n",
              "      <td>1.46</td>\n",
              "      <td>9.30</td>\n",
              "      <td>0.60</td>\n",
              "      <td>1.62</td>\n",
              "      <td>840</td>\n",
              "    </tr>\n",
              "    <tr>\n",
              "      <th>177</th>\n",
              "      <td>3</td>\n",
              "      <td>14.13</td>\n",
              "      <td>4.10</td>\n",
              "      <td>2.74</td>\n",
              "      <td>24.5</td>\n",
              "      <td>96</td>\n",
              "      <td>2.05</td>\n",
              "      <td>0.76</td>\n",
              "      <td>0.56</td>\n",
              "      <td>1.35</td>\n",
              "      <td>9.20</td>\n",
              "      <td>0.61</td>\n",
              "      <td>1.60</td>\n",
              "      <td>560</td>\n",
              "    </tr>\n",
              "  </tbody>\n",
              "</table>\n",
              "<p>178 rows × 14 columns</p>\n",
              "</div>"
            ],
            "text/plain": [
              "     0      1     2     3     4    5   ...    8     9      10    11    12    13\n",
              "0     1  14.23  1.71  2.43  15.6  127  ...  0.28  2.29   5.64  1.04  3.92  1065\n",
              "1     1  13.20  1.78  2.14  11.2  100  ...  0.26  1.28   4.38  1.05  3.40  1050\n",
              "2     1  13.16  2.36  2.67  18.6  101  ...  0.30  2.81   5.68  1.03  3.17  1185\n",
              "3     1  14.37  1.95  2.50  16.8  113  ...  0.24  2.18   7.80  0.86  3.45  1480\n",
              "4     1  13.24  2.59  2.87  21.0  118  ...  0.39  1.82   4.32  1.04  2.93   735\n",
              "..   ..    ...   ...   ...   ...  ...  ...   ...   ...    ...   ...   ...   ...\n",
              "173   3  13.71  5.65  2.45  20.5   95  ...  0.52  1.06   7.70  0.64  1.74   740\n",
              "174   3  13.40  3.91  2.48  23.0  102  ...  0.43  1.41   7.30  0.70  1.56   750\n",
              "175   3  13.27  4.28  2.26  20.0  120  ...  0.43  1.35  10.20  0.59  1.56   835\n",
              "176   3  13.17  2.59  2.37  20.0  120  ...  0.53  1.46   9.30  0.60  1.62   840\n",
              "177   3  14.13  4.10  2.74  24.5   96  ...  0.56  1.35   9.20  0.61  1.60   560\n",
              "\n",
              "[178 rows x 14 columns]"
            ]
          },
          "metadata": {
            "tags": []
          },
          "execution_count": 2
        }
      ]
    },
    {
      "cell_type": "markdown",
      "metadata": {
        "id": "LzAtuilljFGZ"
      },
      "source": [
        "### Select 3 Attributes from the dataframe"
      ]
    },
    {
      "cell_type": "code",
      "metadata": {
        "colab": {
          "base_uri": "https://localhost:8080/"
        },
        "id": "lJI-jBefht9T",
        "outputId": "47fb5c19-df23-4fa2-b4f8-86c7337ae3c9"
      },
      "source": [
        "# Fetch the attributes from the dataframe\n",
        "first_attr = winedata[1]\n",
        "first = np.array(first_attr)\n",
        "second_attr = winedata[2]\n",
        "second = np.array(second_attr)\n",
        "third_attr = winedata[3]\n",
        "third = np.array(third_attr)\n",
        "\n",
        "print(\"First Attribute Array\")\n",
        "print(first)\n",
        "print(\"Second Attribute Array\")\n",
        "print(second)\n",
        "print(\"Third Attribute Array\")\n",
        "print(third)"
      ],
      "execution_count": 3,
      "outputs": [
        {
          "output_type": "stream",
          "text": [
            "First Attribute Array\n",
            "[14.23 13.2  13.16 14.37 13.24 14.2  14.39 14.06 14.83 13.86 14.1  14.12\n",
            " 13.75 14.75 14.38 13.63 14.3  13.83 14.19 13.64 14.06 12.93 13.71 12.85\n",
            " 13.5  13.05 13.39 13.3  13.87 14.02 13.73 13.58 13.68 13.76 13.51 13.48\n",
            " 13.28 13.05 13.07 14.22 13.56 13.41 13.88 13.24 13.05 14.21 14.38 13.9\n",
            " 14.1  13.94 13.05 13.83 13.82 13.77 13.74 13.56 14.22 13.29 13.72 12.37\n",
            " 12.33 12.64 13.67 12.37 12.17 12.37 13.11 12.37 13.34 12.21 12.29 13.86\n",
            " 13.49 12.99 11.96 11.66 13.03 11.84 12.33 12.7  12.   12.72 12.08 13.05\n",
            " 11.84 12.67 12.16 11.65 11.64 12.08 12.08 12.   12.69 12.29 11.62 12.47\n",
            " 11.81 12.29 12.37 12.29 12.08 12.6  12.34 11.82 12.51 12.42 12.25 12.72\n",
            " 12.22 11.61 11.46 12.52 11.76 11.41 12.08 11.03 11.82 12.42 12.77 12.\n",
            " 11.45 11.56 12.42 13.05 11.87 12.07 12.43 11.79 12.37 12.04 12.86 12.88\n",
            " 12.81 12.7  12.51 12.6  12.25 12.53 13.49 12.84 12.93 13.36 13.52 13.62\n",
            " 12.25 13.16 13.88 12.87 13.32 13.08 13.5  12.79 13.11 13.23 12.58 13.17\n",
            " 13.84 12.45 14.34 13.48 12.36 13.69 12.85 12.96 13.78 13.73 13.45 12.82\n",
            " 13.58 13.4  12.2  12.77 14.16 13.71 13.4  13.27 13.17 14.13]\n",
            "Second Attribute Array\n",
            "[1.71 1.78 2.36 1.95 2.59 1.76 1.87 2.15 1.64 1.35 2.16 1.48 1.73 1.73\n",
            " 1.87 1.81 1.92 1.57 1.59 3.1  1.63 3.8  1.86 1.6  1.81 2.05 1.77 1.72\n",
            " 1.9  1.68 1.5  1.66 1.83 1.53 1.8  1.81 1.64 1.65 1.5  3.99 1.71 3.84\n",
            " 1.89 3.98 1.77 4.04 3.59 1.68 2.02 1.73 1.73 1.65 1.75 1.9  1.67 1.73\n",
            " 1.7  1.97 1.43 0.94 1.1  1.36 1.25 1.13 1.45 1.21 1.01 1.17 0.94 1.19\n",
            " 1.61 1.51 1.66 1.67 1.09 1.88 0.9  2.89 0.99 3.87 0.92 1.81 1.13 3.86\n",
            " 0.89 0.98 1.61 1.67 2.06 1.33 1.83 1.51 1.53 2.83 1.99 1.52 2.12 1.41\n",
            " 1.07 3.17 2.08 1.34 2.45 1.72 1.73 2.55 1.73 1.75 1.29 1.35 3.74 2.43\n",
            " 2.68 0.74 1.39 1.51 1.47 1.61 3.43 3.43 2.4  2.05 4.43 5.8  4.31 2.16\n",
            " 1.53 2.13 1.63 4.3  1.35 2.99 2.31 3.55 1.24 2.46 4.72 5.51 3.59 2.96\n",
            " 2.81 2.56 3.17 4.95 3.88 3.57 5.04 4.61 3.24 3.9  3.12 2.67 1.9  3.3\n",
            " 1.29 5.19 4.12 3.03 1.68 1.67 3.83 3.26 3.27 3.45 2.76 4.36 3.7  3.37\n",
            " 2.58 4.6  3.03 2.39 2.51 5.65 3.91 4.28 2.59 4.1 ]\n",
            "Third Attribute Array\n",
            "[2.43 2.14 2.67 2.5  2.87 2.45 2.45 2.61 2.17 2.27 2.3  2.32 2.41 2.39\n",
            " 2.38 2.7  2.72 2.62 2.48 2.56 2.28 2.65 2.36 2.52 2.61 3.22 2.62 2.14\n",
            " 2.8  2.21 2.7  2.36 2.36 2.7  2.65 2.41 2.84 2.55 2.1  2.51 2.31 2.12\n",
            " 2.59 2.29 2.1  2.44 2.28 2.12 2.4  2.27 2.04 2.6  2.42 2.68 2.25 2.46\n",
            " 2.3  2.68 2.5  1.36 2.28 2.02 1.92 2.16 2.53 2.56 1.7  1.92 2.36 1.75\n",
            " 2.21 2.67 2.24 2.6  2.3  1.92 1.71 2.23 1.95 2.4  2.   2.2  2.51 2.32\n",
            " 2.58 2.24 2.31 2.62 2.46 2.3  2.32 2.42 2.26 2.22 2.28 2.2  2.74 1.98\n",
            " 2.1  2.21 1.7  1.9  2.46 1.88 1.98 2.27 2.12 2.28 1.94 2.7  1.82 2.17\n",
            " 2.92 2.5  2.5  2.2  1.99 2.19 1.98 2.   2.42 3.23 2.73 2.13 2.39 2.17\n",
            " 2.29 2.78 2.3  2.38 2.32 2.4  2.4  2.36 2.25 2.2  2.54 2.64 2.19 2.61\n",
            " 2.7  2.35 2.72 2.35 2.2  2.15 2.23 2.48 2.38 2.36 2.62 2.48 2.75 2.28\n",
            " 2.1  2.32 2.38 2.64 2.7  2.64 2.38 2.54 2.58 2.35 2.3  2.26 2.6  2.3\n",
            " 2.69 2.86 2.32 2.28 2.48 2.45 2.48 2.26 2.37 2.74]\n"
          ],
          "name": "stdout"
        }
      ]
    },
    {
      "cell_type": "markdown",
      "metadata": {
        "id": "Zs3_q8abjAFC"
      },
      "source": [
        "### Pre-Processing of Data"
      ]
    },
    {
      "cell_type": "markdown",
      "metadata": {
        "id": "rwSKr9JSkD0L"
      },
      "source": [
        "Discretize the Data"
      ]
    },
    {
      "cell_type": "code",
      "metadata": {
        "id": "Q42cgJXRkXc5"
      },
      "source": [
        "def discretizeData(attr):\n",
        "  # Find the min and max for the attribute\n",
        "  minVal = min(attr)\n",
        "  maxVal = max(attr)\n",
        "  # Returns an array of 3 samples\n",
        "  return np.linspace(minVal,maxVal,4)\n"
      ],
      "execution_count": 4,
      "outputs": []
    },
    {
      "cell_type": "code",
      "metadata": {
        "colab": {
          "base_uri": "https://localhost:8080/"
        },
        "id": "GlPWbO8ciHke",
        "outputId": "5f10c378-f227-4d79-df81-3346f033fc2d"
      },
      "source": [
        "# Call the discretizeData fuction - Returns the bins from the data\n",
        "first_discrete = discretizeData(first)\n",
        "second_discrete = discretizeData(second)\n",
        "third_discrete = discretizeData(third)\n",
        "\n",
        "first_ = np.digitize(first, bins = first_discrete)\n",
        "second_ = np.digitize(second, bins = second_discrete)\n",
        "third_ = np.digitize(third, bins= third_discrete)\n",
        "print(\"First Discrete Data\")\n",
        "print(first_)\n",
        "print(\"Second Discrete Data\")\n",
        "print(second_)\n",
        "print(\"Third Discrete Data\")\n",
        "print(third_)"
      ],
      "execution_count": 5,
      "outputs": [
        {
          "output_type": "stream",
          "text": [
            "First Discrete Data\n",
            "[3 2 2 3 2 3 3 3 4 3 3 3 3 3 3 3 3 3 3 3 3 2 3 2 2 2 2 2 3 3 3 3 3 3 2 2 2\n",
            " 2 2 3 2 2 3 2 2 3 3 3 3 3 2 3 3 3 3 2 3 2 3 2 2 2 3 2 1 2 2 2 2 1 1 3 2 2\n",
            " 1 1 2 1 2 2 1 2 1 2 1 2 1 1 1 1 1 1 2 1 1 2 1 1 2 1 1 2 2 1 2 2 1 2 1 1 1\n",
            " 2 1 1 1 1 1 2 2 1 1 1 2 2 1 1 2 1 2 1 2 2 2 2 2 2 1 2 2 2 2 2 2 3 1 2 3 2\n",
            " 2 2 2 2 2 2 2 2 3 2 3 2 2 3 2 2 3 3 2 2 3 2 1 2 3 3 2 2 2 3]\n",
            "Second Discrete Data\n",
            "[1 1 1 1 2 1 1 1 1 1 1 1 1 1 1 1 1 1 1 2 1 2 1 1 1 1 1 1 1 1 1 1 1 1 1 1 1\n",
            " 1 1 2 1 2 1 2 1 2 2 1 1 1 1 1 1 1 1 1 1 1 1 1 1 1 1 1 1 1 1 1 1 1 1 1 1 1\n",
            " 1 1 1 2 1 2 1 1 1 2 1 1 1 1 1 1 1 1 1 2 1 1 1 1 1 2 1 1 2 1 1 2 1 1 1 1 2\n",
            " 2 2 1 1 1 1 1 2 2 1 1 3 4 3 1 1 1 1 3 1 2 1 2 1 2 3 3 2 2 2 2 2 3 2 2 3 3\n",
            " 2 2 2 2 1 2 1 3 3 2 1 1 2 2 2 2 2 3 2 2 2 3 2 1 2 3 2 3 2 2]\n",
            "Third Discrete Data\n",
            "[2 2 3 2 3 2 2 3 2 2 2 2 2 2 2 3 3 3 2 2 2 3 2 2 3 3 3 2 3 2 3 2 2 3 3 2 3\n",
            " 2 2 2 2 2 2 2 2 2 2 2 2 2 2 2 2 3 2 2 2 3 2 1 2 2 1 2 2 2 1 1 2 1 2 3 2 2\n",
            " 2 1 1 2 1 2 2 2 2 2 2 2 2 3 2 2 2 2 2 2 2 2 3 1 2 2 1 1 2 1 1 2 2 2 1 3 1\n",
            " 2 3 2 2 2 2 2 1 2 2 4 3 2 2 2 2 3 2 2 2 2 2 2 2 2 2 3 2 3 3 2 3 2 2 2 2 2\n",
            " 2 2 3 2 3 2 2 2 2 3 3 3 2 2 2 2 2 2 2 2 3 3 2 2 2 2 2 2 2 3]\n"
          ],
          "name": "stdout"
        }
      ]
    },
    {
      "cell_type": "code",
      "metadata": {
        "id": "lKZM0Qea_S7i"
      },
      "source": [
        ""
      ],
      "execution_count": 5,
      "outputs": []
    },
    {
      "cell_type": "code",
      "metadata": {
        "colab": {
          "base_uri": "https://localhost:8080/"
        },
        "id": "qLgTXBTFjlN0",
        "outputId": "a3519f7d-1deb-4741-fe48-fa91c070c704"
      },
      "source": [
        "# Calc Entropy Function takes parameter the classes and returns the entropy value calculated\n",
        "\n",
        "def CalculateEntropy(dfc):\n",
        "  numOfVals = len(dfc[0])\n",
        "  v,c = np.unique(dfc[0], return_counts=True)\n",
        "  list_of_probabilities = c/numOfVals\n",
        "  entropy = 0\n",
        "  for prob in list_of_probabilities:\n",
        "    entropy -= prob*math.log(prob,2)\n",
        "\n",
        "  return entropy\n",
        "\n",
        "decision = winedata[0]\n",
        "decision = np.array(decision)\n",
        "data = [decision,first_,second_,third_]\n",
        "df = pd.DataFrame(data)\n",
        "df = df.transpose()\n",
        "\n",
        "dfc = copy.deepcopy(df)\n",
        "entropy_main = CalculateEntropy(dfc) \n",
        "print(\"Main Class Entropy: \", entropy_main)\n"
      ],
      "execution_count": 6,
      "outputs": [
        {
          "output_type": "stream",
          "text": [
            "Main Class Entropy:  1.5668222768551812\n"
          ],
          "name": "stdout"
        }
      ]
    },
    {
      "cell_type": "code",
      "metadata": {
        "colab": {
          "base_uri": "https://localhost:8080/"
        },
        "id": "0V805dHargZ3",
        "outputId": "380ae847-3c37-46a6-9b50-1b06fc5e8aeb"
      },
      "source": [
        "# Info Gain Function For each attribute\n",
        "def InformationGain(df, attr):\n",
        "  v,c = np.unique(df[attr], return_counts=True)\n",
        "  InfoG = entropy_main\n",
        "  for i,value in enumerate(v):\n",
        "    cond_prob = c[i]/len(df[attr])\n",
        "    dfc = copy.deepcopy(df)\n",
        "   \n",
        "    dfc = dfc[dfc[attr] == value]\n",
        "    entropy_ = CalculateEntropy(dfc)\n",
        "    print(\"Value Entropy for \", value, \" is: \", entropy_)\n",
        "    InfoG += -1*cond_prob*entropy_\n",
        " \n",
        "  return InfoG\n",
        "\n",
        "Ig = InformationGain(df, 1)\n",
        "print(\"First Attr Info Gain: \", Ig)\n",
        "print(\"\")\n",
        "Ig2 = InformationGain(df,2)\n",
        "print(\"Second Attr Info Gain: \", Ig2)\n",
        "print(\"\")\n",
        "Ig3 = InformationGain(df,3)\n",
        "print(\"Third Attr Info Gain: \", Ig3)\n",
        "\n",
        "print(\"Root Node should be Attr#: \", np.argmax([Ig,Ig2,Ig3])+1)\n"
      ],
      "execution_count": 7,
      "outputs": [
        {
          "output_type": "stream",
          "text": [
            "Value Entropy for  1  is:  0.37764632137370036\n",
            "Value Entropy for  2  is:  1.5565846604828115\n",
            "Value Entropy for  3  is:  0.9877857431090964\n",
            "Value Entropy for  4  is:  0.0\n",
            "First Attr Info Gain:  0.45031066374676354\n",
            "\n",
            "Value Entropy for  1  is:  1.295447236231386\n",
            "Value Entropy for  2  is:  1.3718323162100354\n",
            "Value Entropy for  3  is:  0.74959525725948\n",
            "Value Entropy for  4  is:  0.0\n",
            "Second Attr Info Gain:  0.3005576587298864\n",
            "\n",
            "Value Entropy for  1  is:  0.0\n",
            "Value Entropy for  2  is:  1.5765018219622458\n",
            "Value Entropy for  3  is:  1.4988721468780661\n",
            "Value Entropy for  4  is:  0.0\n",
            "Third Attr Info Gain:  0.1565856193670288\n",
            "Root Node should be Attr#:  1\n"
          ],
          "name": "stdout"
        }
      ]
    },
    {
      "cell_type": "code",
      "metadata": {
        "id": "l_WuEiSNr1ZM"
      },
      "source": [
        ""
      ],
      "execution_count": 7,
      "outputs": []
    }
  ]
}